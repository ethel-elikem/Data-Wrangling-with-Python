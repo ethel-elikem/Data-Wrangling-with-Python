{
 "cells": [
  {
   "cell_type": "markdown",
   "metadata": {},
   "source": [
    "## Reporting: wragle_report\n",
    "* Create a **300-600 word written report** called \"wrangle_report.pdf\" or \"wrangle_report.html\" that briefly describes your wrangling efforts. This is to be framed as an internal document."
   ]
  },
  {
   "cell_type": "markdown",
   "metadata": {},
   "source": [
    "For this project the data gathering process for the first two datasets were quite easy. Getting the the thrid dataset using twitter API, was quite the  \n",
    "I applied for the developer account but I still have not heard from Twitter, I will attach the email.\n",
    "\n",
    "Secondly, I run into errors with the second alternative provided by the course instructors(expired token). I have requested assistance on the Slack channel from my section lead, still waiting for help.\n",
    "\n",
    "I was left with no choice but to take the csv file from a collegue."
   ]
  }
 ],
 "metadata": {
  "kernelspec": {
   "display_name": "Python 3",
   "language": "python",
   "name": "python3"
  },
  "language_info": {
   "codemirror_mode": {
    "name": "ipython",
    "version": 3
   },
   "file_extension": ".py",
   "mimetype": "text/x-python",
   "name": "python",
   "nbconvert_exporter": "python",
   "pygments_lexer": "ipython3",
   "version": "3.9.2"
  }
 },
 "nbformat": 4,
 "nbformat_minor": 2
}
